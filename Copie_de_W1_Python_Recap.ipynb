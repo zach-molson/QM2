{
  "cells": [
    {
      "cell_type": "markdown",
      "metadata": {
        "id": "view-in-github",
        "colab_type": "text"
      },
      "source": [
        "<a href=\"https://colab.research.google.com/github/zach-molson/QM2/blob/main/Copie_de_W1_Python_Recap.ipynb\" target=\"_parent\"><img src=\"https://colab.research.google.com/assets/colab-badge.svg\" alt=\"Open In Colab\"/></a>"
      ]
    },
    {
      "cell_type": "markdown",
      "metadata": {
        "id": "92xjWEKeInDL"
      },
      "source": [
        "# Python Recap\n",
        "\n",
        "## *Workshop 1*  [![Open In Colab](https://github.com/oballinger/QM2/blob/main/colab-badge.png?raw=1)](https://colab.research.google.com/github/oballinger/QM2/blob/main/notebooks/W01.%20Python%20Recap.ipynb)\n",
        "\n",
        "## Registering a GitHub account\n",
        "\n",
        "Before we get started, we need to set a few things up. GitHub is a platform for software development and version control using Git, allowing developers to store and manage their code. Think of it as google docs but for code-- it will be very useful for collaborating on your group projects later in the term, and in your future as a data analyst.\n",
        "\n",
        "1. Use [this link](https://github.com/join) to register for a GitHub account if you don't already have one.\n",
        "2. Once that's done, [create a new github repository](https://github.com/new) called \"QM2\".\n",
        "3. In this notebook, click \"File\" and then \"Save a copy in GitHub\".\n",
        "\n",
        "Voila! You now have a version of this notebook saved to your own GitHub account. *You will need to do step 3 for all the workshops!* Now, on to python.\n",
        "\n",
        "## Using Python\n",
        "\n",
        "In this course, we'll make extensive use of *Python*, a programming language used widely in scientific computing and on the web. We will be using Python as a way to manipulate, plot and analyse data. This isn't a course about learning Python, it's about working with data - but we'll learning a little bit of programming along the way.\n",
        "\n",
        "By now, you should have done the prerequisites for the module, and understand a bit about how Python is structured, what different commands do, and so on - this is a bit of a refresher to remind you of what we need at the beginning of term.\n",
        "\n",
        "The particular flavour of Python we're using is *iPython*, which, as we've seen, allows us to combine text, code, images, equations and figures in a *Notebook*. This is a *cell*, written in *markdown* - a way of writing nice text. Contrast this with *code* cell, which executes a bit of Python:"
      ]
    },
    {
      "cell_type": "code",
      "execution_count": null,
      "metadata": {
        "id": "S1siXLpdInDM",
        "outputId": "4fc0a1f0-9ffc-445f-aa80-45272d580ac0"
      },
      "outputs": [
        {
          "name": "stdout",
          "output_type": "stream",
          "text": [
            "2\n"
          ]
        }
      ],
      "source": [
        "print(1+1)"
      ]
    },
    {
      "cell_type": "markdown",
      "metadata": {
        "id": "RUiPNXLiInDQ"
      },
      "source": [
        "The Notebook format allows you to engage in what Don Knuth describes as [Literate Programming](http://en.wikipedia.org/wiki/Literate_programming):\n",
        "\n",
        "> […] Instead of writing code containing documentation, the literate programmer writes documentation containing code. No longer does the English commentary injected into a program have to be hidden in comment delimiters at the top of the file, or under procedure headings, or at the end of lines. Instead, it is wrenched into the daylight and made the main focus. The \"program\" then becomes primarily a document directed at humans, with the code being herded between \"code delimiters\" from where it can be extracted and shuffled out sideways to the language system by literate programming tools.\n",
        "[Ross Williams][1]\n",
        "\n",
        "[1]: http://www.literateprogramming.com/lpquotes.html"
      ]
    },
    {
      "cell_type": "markdown",
      "metadata": {
        "id": "NT4CsLCxInDQ"
      },
      "source": [
        "Libraries\n",
        "---------\n",
        "\n",
        "We will work with a number of *libraries*, which provide additional functions and techniques to help us to carry out our tasks.\n",
        "\n",
        "These include:\n",
        "\n",
        "*Pandas:* we'll use this a lot to slice and dice data\n",
        "\n",
        "*matplotlib*: this is our basic graphing software, and we'll also use it for mapping\n",
        "\n",
        "*nltk*: The Natural Language Tool Kit will help us work with text\n",
        "\n",
        "We aren't doing all this to learn to program. We could spend a whole term learning how to use Python and never look at any data, maps, graphs, or visualisations. But we do need to understand a few basics to use Python for working with data. So let's revisit a few concepts that you should have covered in your prerequisites."
      ]
    },
    {
      "cell_type": "markdown",
      "metadata": {
        "id": "jm4XtcfaInDR"
      },
      "source": [
        "Variables\n",
        "---------\n",
        "\n",
        "Python can broadly be divided in verbs and nouns: things which *do* things, and things which *are* things. In Python, the verbs can be *commands*, *functions*, or *methods*. We won't worry too much about the distinction here - suffice it to say, they are the parts of code which manipulate data, calculate values, or show things on the screen.\n",
        "\n",
        "The simplest proper noun object in Python is the *variable*. Variables are given names and store information. This can be, for example, numeric, text, or boolean (true/false). These are all statements setting up variables:\n",
        "\n",
        "n = 1\n",
        "\n",
        "t = \"hi\"\n",
        "\n",
        "b = True\n",
        "\n",
        "Now let's try this in code:"
      ]
    },
    {
      "cell_type": "code",
      "execution_count": null,
      "metadata": {
        "id": "wbEBXSjyInDS"
      },
      "outputs": [],
      "source": [
        "n = 1\n",
        "\n",
        "t = \"hi\"\n",
        "\n",
        "b = True"
      ]
    },
    {
      "cell_type": "markdown",
      "metadata": {
        "id": "KEHhTkQRInDX"
      },
      "source": [
        "Note that each command is on a new line; other than that, the *syntax* of Python should be fairly clear. We're setting these variables equal to the letters and numbers and phrases and booleans. **What's a boolean?**\n",
        "\n",
        "The value of this is we now have values tied to these variables - so every time we want to use it, we can refer to the variable:"
      ]
    },
    {
      "cell_type": "code",
      "execution_count": null,
      "metadata": {
        "id": "mX21mc1GInDY",
        "outputId": "9fddcf61-b40c-4794-ee3b-6f91687eba27"
      },
      "outputs": [
        {
          "data": {
            "text/plain": [
              "1"
            ]
          },
          "execution_count": 12,
          "metadata": {},
          "output_type": "execute_result"
        }
      ],
      "source": [
        "n"
      ]
    },
    {
      "cell_type": "code",
      "execution_count": null,
      "metadata": {
        "id": "H_i_d3GXInDb",
        "outputId": "fde61a5d-2008-4354-9869-b282112ef56c"
      },
      "outputs": [
        {
          "data": {
            "text/plain": [
              "'hi'"
            ]
          },
          "execution_count": 13,
          "metadata": {},
          "output_type": "execute_result"
        }
      ],
      "source": [
        "t"
      ]
    },
    {
      "cell_type": "code",
      "execution_count": null,
      "metadata": {
        "id": "97crKLfSInDe",
        "outputId": "6d4d2909-4db0-4569-831b-793621ec468f"
      },
      "outputs": [
        {
          "data": {
            "text/plain": [
              "True"
            ]
          },
          "execution_count": 14,
          "metadata": {},
          "output_type": "execute_result"
        }
      ],
      "source": [
        "b"
      ]
    },
    {
      "cell_type": "markdown",
      "metadata": {
        "id": "3E8UNGUMInDh"
      },
      "source": [
        "Because we've defined these variables in the early part of the notebook, we can use them later on."
      ]
    },
    {
      "cell_type": "markdown",
      "metadata": {
        "id": "HwHT5mDBInDh"
      },
      "source": [
        "***Advanced**: where do **classes** fit into this noun/verb picture of variables and commands?*"
      ]
    },
    {
      "cell_type": "markdown",
      "metadata": {
        "id": "XTcrfSHQInDi"
      },
      "source": [
        "Where is my data?\n",
        "-----------------\n",
        "\n",
        "When we work in excel and text editors, we're used to seeing the data onscreen - and if we manipulate the data in some way (averaging or summing up), we see both the inputs and outputs on screen. The big difference in working with Python is that we don't see our variables all of the time, or the effect we're having on them. They're there in the background, but it's usually worth checking in on them from time to time, to see whether our processes are doing what we think they're doing.\n",
        "\n",
        "This is pretty easy to do - we can just type the variable name, or \"print(*variable name*)\":"
      ]
    },
    {
      "cell_type": "code",
      "execution_count": null,
      "metadata": {
        "id": "rW3iJbkoInDk",
        "outputId": "1003aa2e-04ea-475d-a551-246482c257f0"
      },
      "outputs": [
        {
          "name": "stdout",
          "output_type": "stream",
          "text": [
            "2\n",
            "hi\n",
            "True\n"
          ]
        }
      ],
      "source": [
        "n = n+1\n",
        "print(n)\n",
        "print(t)\n",
        "print(b)"
      ]
    },
    {
      "cell_type": "markdown",
      "metadata": {
        "id": "Z5tctl6AInDo"
      },
      "source": [
        "Flow\n",
        "----\n",
        "\n",
        "Python, in common with all programming languages, executes commands in a sequence - we might refer to this as the \"ineluctable march of the machines\", but it's more common referred to as the *flow* of the code (we'll use the word \"code\" a lot - it just means commands written in the programming language). In most cases, code just executes in the order it's written. This is true within each *cell* (each block of text in the notebook), and it's true when we execute the cells in order; that's why we can refer back to the variables we defined earlier:"
      ]
    },
    {
      "cell_type": "code",
      "execution_count": null,
      "metadata": {
        "id": "z_2Y9lctInDp",
        "outputId": "8b8a9ab0-0714-4c90-e913-bf2479d82e4f",
        "colab": {
          "base_uri": "https://localhost:8080/",
          "height": 175
        }
      },
      "outputs": [
        {
          "output_type": "error",
          "ename": "NameError",
          "evalue": "ignored",
          "traceback": [
            "\u001b[0;31m---------------------------------------------------------------------------\u001b[0m",
            "\u001b[0;31mNameError\u001b[0m                                 Traceback (most recent call last)",
            "\u001b[0;32m<ipython-input-2-349653be3a92>\u001b[0m in \u001b[0;36m<cell line: 1>\u001b[0;34m()\u001b[0m\n\u001b[0;32m----> 1\u001b[0;31m \u001b[0mprint\u001b[0m\u001b[0;34m(\u001b[0m\u001b[0mn\u001b[0m\u001b[0;34m)\u001b[0m\u001b[0;34m\u001b[0m\u001b[0;34m\u001b[0m\u001b[0m\n\u001b[0m",
            "\u001b[0;31mNameError\u001b[0m: name 'n' is not defined"
          ]
        }
      ],
      "source": [
        "print(n)"
      ]
    },
    {
      "cell_type": "markdown",
      "metadata": {
        "id": "DtVel6vZInDs"
      },
      "source": [
        "If we make a change to one of these variables, say n:"
      ]
    },
    {
      "cell_type": "code",
      "execution_count": null,
      "metadata": {
        "id": "7ykZEOWTInDt"
      },
      "outputs": [],
      "source": [
        "n = 3"
      ]
    },
    {
      "cell_type": "markdown",
      "metadata": {
        "id": "Ikdjeq60InDx"
      },
      "source": [
        "and execute the above \"print n\" command, you'll see that it has changed n to 3. So if we go out of order, the obvious flow of the code is confused. For this reason, try to write your code so it executes in order, one cell at a time. At least for the moment, this will make it easier to follow the logic of what you're doing to data."
      ]
    },
    {
      "cell_type": "markdown",
      "metadata": {
        "id": "QwExWMcdInDy"
      },
      "source": [
        "*Advanced*: what happens to this flow when you write *functions* to automate common tasks?"
      ]
    },
    {
      "cell_type": "markdown",
      "metadata": {
        "id": "8Y6m2F8pInDy"
      },
      "source": [
        "***Exercise - Setting up variables***:\n",
        "\n",
        "\n",
        "1. Create a new cell.\n",
        "\n",
        "2. Create the variables \"name\", and assign your name to it.\n",
        "\n",
        "3. Create a variable \"Python\" and assign a score out of 10 to how much you like Python.\n",
        "\n",
        "4. Create a variable \"prior\" and if you've used Python before, assign True; otherwise assign False to the variable\n",
        "\n",
        "5. Print these out to the screen"
      ]
    },
    {
      "cell_type": "code",
      "execution_count": null,
      "metadata": {
        "id": "VdjbUdczJyqr",
        "colab": {
          "base_uri": "https://localhost:8080/"
        },
        "outputId": "eb43c22f-a4cc-45b5-cccc-f07032d32147"
      },
      "outputs": [
        {
          "output_type": "stream",
          "name": "stdout",
          "text": [
            "Zach -2/10 True\n"
          ]
        }
      ],
      "source": [
        "name = \"Zach\"\n",
        "Python = \"-2/10\"\n",
        "prior = True\n",
        "\n",
        "print (name, Python, prior)"
      ]
    },
    {
      "cell_type": "markdown",
      "metadata": {
        "id": "V1cvj5vOInDy"
      },
      "source": [
        "Downloading Data\n",
        "--------------------------\n",
        "\n",
        "Lets fetch the data we will be using for this session. There are two ways in which you can upload data to the Colab notebook. You can use the following code to upload a CSV or similar data file.\n"
      ]
    },
    {
      "cell_type": "code",
      "execution_count": null,
      "metadata": {
        "id": "7Hqi7hA1KEGi"
      },
      "outputs": [],
      "source": [
        "from google.colab import files\n",
        "uploaded = files.upload()"
      ]
    },
    {
      "cell_type": "markdown",
      "metadata": {
        "id": "bTj0JTk4J-yt"
      },
      "source": [
        "Or you can use the following cell to fetch the data directly from the QM2 server.\n",
        "\n",
        "Let's create a folder that we can store all our data for this session"
      ]
    },
    {
      "cell_type": "code",
      "execution_count": 9,
      "metadata": {
        "id": "dJf-hrVaInDz"
      },
      "outputs": [],
      "source": [
        "!mkdir data"
      ]
    },
    {
      "cell_type": "code",
      "execution_count": 10,
      "metadata": {
        "colab": {
          "base_uri": "https://localhost:8080/"
        },
        "id": "8x7inUgzInD1",
        "outputId": "43e6b6cb-4e77-4494-bd95-d37cee2d7194"
      },
      "outputs": [
        {
          "output_type": "stream",
          "name": "stdout",
          "text": [
            "  % Total    % Received % Xferd  Average Speed   Time    Time     Time  Current\n",
            "                                 Dload  Upload   Total   Spent    Left  Speed\n",
            "100   203  100   203    0     0    392      0 --:--:-- --:--:-- --:--:--   393\n",
            "  % Total    % Received % Xferd  Average Speed   Time    Time     Time  Current\n",
            "                                 Dload  Upload   Total   Spent    Left  Speed\n",
            "100   297  100   297    0     0    599      0 --:--:-- --:--:-- --:--:--   600\n"
          ]
        }
      ],
      "source": [
        "!mkdir ./data/wk1\n",
        "!curl https://s3.eu-west-2.amazonaws.com/qm2/wk1/data.csv -o ./data/wk1/data.csv\n",
        "!curl https://s3.eu-west-2.amazonaws.com/qm2/wk1/sample_group.csv -o ./data/wk1/sample_group.csv"
      ]
    },
    {
      "cell_type": "markdown",
      "metadata": {
        "id": "ZpTwNZymInD5"
      },
      "source": [
        "Storing and importing data\n",
        "--------------------------\n",
        "\n",
        "Typically, data we look at won't be just one number, or one bit of text. Python has a lot of different ways of dealing with a bunch of numbers: for example, a list of values is called a **list**:"
      ]
    },
    {
      "cell_type": "code",
      "execution_count": 4,
      "metadata": {
        "colab": {
          "base_uri": "https://localhost:8080/"
        },
        "id": "xNJEZ5g1InD6",
        "outputId": "564aa4ed-8b96-4729-a81d-5ed1089e2883"
      },
      "outputs": [
        {
          "output_type": "stream",
          "name": "stdout",
          "text": [
            "[1, 2, 3, 6, 9]\n"
          ]
        }
      ],
      "source": [
        "listy = [1,2,3,6,9]\n",
        "print(listy)"
      ]
    },
    {
      "cell_type": "markdown",
      "metadata": {
        "id": "w6LaLn3pInD-"
      },
      "source": [
        "A set of values *linked* to an index (or key) is called a **dictionary**; for example:"
      ]
    },
    {
      "cell_type": "code",
      "execution_count": null,
      "metadata": {
        "colab": {
          "base_uri": "https://localhost:8080/"
        },
        "id": "McspnzcDInD_",
        "outputId": "3762e43a-66fe-473d-c808-20fcf407179e"
      },
      "outputs": [
        {
          "name": "stdout",
          "output_type": "stream",
          "text": [
            "{'Bob': 1.2, 'Mike': 1.2, 'Coop': 1.1, 'Maddy': 1.3, 'Giant': 2.1}\n"
          ]
        }
      ],
      "source": [
        "dicty = {'Bob': 1.2, 'Mike': 1.2, 'Coop': 1.1, 'Maddy': 1.3, 'Giant': 2.1}\n",
        "print(dicty)"
      ]
    },
    {
      "cell_type": "markdown",
      "metadata": {
        "id": "nKd_aimvInEC"
      },
      "source": [
        "Notice that the list uses square brackets with values separated by commas, and the dict uses curly brackets with pairs separated by commas, and colons (:) to link a *key* (index or address) with a value.\n",
        "\n",
        "(You might notice that they haven't printed out in the order you entered them)"
      ]
    },
    {
      "cell_type": "markdown",
      "metadata": {
        "id": "ynwZr-GaInEC"
      },
      "source": [
        "***Advanced**: Print out 1) The third element of **listy**, and 2) The element of **dicty** relating to Giant"
      ]
    },
    {
      "cell_type": "code",
      "execution_count": null,
      "metadata": {
        "id": "q7iWJ5X9InED",
        "colab": {
          "base_uri": "https://localhost:8080/",
          "height": 175
        },
        "outputId": "aaca73ff-534f-4f13-92f8-41a27ecc594d"
      },
      "outputs": [
        {
          "output_type": "error",
          "ename": "NameError",
          "evalue": "ignored",
          "traceback": [
            "\u001b[0;31m---------------------------------------------------------------------------\u001b[0m",
            "\u001b[0;31mNameError\u001b[0m                                 Traceback (most recent call last)",
            "\u001b[0;32m<ipython-input-5-413150dfcdd1>\u001b[0m in \u001b[0;36m<cell line: 1>\u001b[0;34m()\u001b[0m\n\u001b[0;32m----> 1\u001b[0;31m \u001b[0mprint\u001b[0m \u001b[0;34m(\u001b[0m\u001b[0mlisty\u001b[0m\u001b[0;34m)\u001b[0m\u001b[0;34m\u001b[0m\u001b[0;34m\u001b[0m\u001b[0m\n\u001b[0m",
            "\u001b[0;31mNameError\u001b[0m: name 'listy' is not defined"
          ]
        }
      ],
      "source": [
        "print (listy[2], dicty[2.1])"
      ]
    },
    {
      "cell_type": "markdown",
      "metadata": {
        "id": "1Q3hnEfDInEG"
      },
      "source": [
        "We'll discuss different ways of organising data again soon, but for now we'll look at *dataframes* - the way our data-friendly *library* **Pandas** works with data. We'll be using Pandas a lot this term, so it's good to get started with it early.\n",
        "\n",
        "Let's start by importing pandas. We'll also import another library, but we're not going to worry about that too much at the moment.  \n",
        "\n",
        "If you see a warning about 'Building Font Cache' don't worry - this is normal."
      ]
    },
    {
      "cell_type": "code",
      "execution_count": 5,
      "metadata": {
        "id": "-ZSM3GvqInEG"
      },
      "outputs": [],
      "source": [
        "import pandas\n",
        "\n",
        "import matplotlib\n",
        "%matplotlib inline"
      ]
    },
    {
      "cell_type": "markdown",
      "metadata": {
        "id": "AhOFPn8sInEJ"
      },
      "source": [
        "Let's import a simple dataset and show it in pandas. We'll use a pre-prepared \".csv\" file, which needs to be in the same folder as our code."
      ]
    },
    {
      "cell_type": "code",
      "execution_count": null,
      "metadata": {
        "colab": {
          "base_uri": "https://localhost:8080/",
          "height": 206
        },
        "id": "zApWGKanInEJ",
        "outputId": "5afa1660-809a-4d96-9273-1009406e7b5f"
      },
      "outputs": [
        {
          "data": {
            "text/html": [
              "<div>\n",
              "<style scoped>\n",
              "    .dataframe tbody tr th:only-of-type {\n",
              "        vertical-align: middle;\n",
              "    }\n",
              "\n",
              "    .dataframe tbody tr th {\n",
              "        vertical-align: top;\n",
              "    }\n",
              "\n",
              "    .dataframe thead th {\n",
              "        text-align: right;\n",
              "    }\n",
              "</style>\n",
              "<table border=\"1\" class=\"dataframe\">\n",
              "  <thead>\n",
              "    <tr style=\"text-align: right;\">\n",
              "      <th></th>\n",
              "      <th>Name</th>\n",
              "      <th>First Appearance</th>\n",
              "      <th>Approx height</th>\n",
              "      <th>Gender</th>\n",
              "      <th>Law Enforcement</th>\n",
              "    </tr>\n",
              "  </thead>\n",
              "  <tbody>\n",
              "    <tr>\n",
              "      <th>0</th>\n",
              "      <td>Bob</td>\n",
              "      <td>1.2</td>\n",
              "      <td>6.0</td>\n",
              "      <td>Male</td>\n",
              "      <td>False</td>\n",
              "    </tr>\n",
              "    <tr>\n",
              "      <th>1</th>\n",
              "      <td>Mike</td>\n",
              "      <td>1.2</td>\n",
              "      <td>5.5</td>\n",
              "      <td>Male</td>\n",
              "      <td>False</td>\n",
              "    </tr>\n",
              "    <tr>\n",
              "      <th>2</th>\n",
              "      <td>Coop</td>\n",
              "      <td>1.1</td>\n",
              "      <td>6.0</td>\n",
              "      <td>Male</td>\n",
              "      <td>True</td>\n",
              "    </tr>\n",
              "    <tr>\n",
              "      <th>3</th>\n",
              "      <td>Maddy</td>\n",
              "      <td>1.3</td>\n",
              "      <td>5.5</td>\n",
              "      <td>Female</td>\n",
              "      <td>False</td>\n",
              "    </tr>\n",
              "    <tr>\n",
              "      <th>4</th>\n",
              "      <td>Giant</td>\n",
              "      <td>2.1</td>\n",
              "      <td>7.5</td>\n",
              "      <td>Male</td>\n",
              "      <td>False</td>\n",
              "    </tr>\n",
              "  </tbody>\n",
              "</table>\n",
              "</div>"
            ],
            "text/plain": [
              "    Name  First Appearance  Approx height  Gender  Law Enforcement\n",
              "0    Bob               1.2            6.0    Male            False\n",
              "1   Mike               1.2            5.5    Male            False\n",
              "2   Coop               1.1            6.0    Male             True\n",
              "3  Maddy               1.3            5.5  Female            False\n",
              "4  Giant               2.1            7.5    Male            False"
            ]
          },
          "execution_count": 13,
          "metadata": {},
          "output_type": "execute_result"
        }
      ],
      "source": [
        "data = pandas.read_csv('./data/wk1/data.csv')\n",
        "data.head()"
      ]
    },
    {
      "cell_type": "markdown",
      "metadata": {
        "id": "iIO-rbSrbPyH"
      },
      "source": [
        "What we've done here is read in a .csv file into a dataframe, the object pandas uses to work with data, and one that has lots of methods for slicing and dicing data, as we will see over the coming weeks. The head() command tells iPython to show the first few columns/rows of the data, so we can start to get a sense of what the data looks like and what sort of type of objects is represents."
      ]
    },
    {
      "cell_type": "markdown",
      "metadata": {
        "id": "avjZ9KewJEHu"
      },
      "source": [
        "A common first step for exploring our data is to sort it. In Pandas, this can be done easily with the `sort_values()` function. We can specify which column to sort the data by, and whether we want to sort in ascending or descending order, using the optional arguments `by` and `ascending`, respectively. In the example below, we're sorting in *descending* order of height:"
      ]
    },
    {
      "cell_type": "code",
      "execution_count": null,
      "metadata": {
        "id": "E1eQ4dqcJEHv",
        "outputId": "e2433d75-5214-4436-d443-ba3cf2b443b4"
      },
      "outputs": [
        {
          "data": {
            "text/html": [
              "<div>\n",
              "<style scoped>\n",
              "    .dataframe tbody tr th:only-of-type {\n",
              "        vertical-align: middle;\n",
              "    }\n",
              "\n",
              "    .dataframe tbody tr th {\n",
              "        vertical-align: top;\n",
              "    }\n",
              "\n",
              "    .dataframe thead th {\n",
              "        text-align: right;\n",
              "    }\n",
              "</style>\n",
              "<table border=\"1\" class=\"dataframe\">\n",
              "  <thead>\n",
              "    <tr style=\"text-align: right;\">\n",
              "      <th></th>\n",
              "      <th>Name</th>\n",
              "      <th>First Appearance</th>\n",
              "      <th>Approx height</th>\n",
              "      <th>Gender</th>\n",
              "      <th>Law Enforcement</th>\n",
              "    </tr>\n",
              "  </thead>\n",
              "  <tbody>\n",
              "    <tr>\n",
              "      <th>4</th>\n",
              "      <td>Giant</td>\n",
              "      <td>2.1</td>\n",
              "      <td>7.5</td>\n",
              "      <td>Male</td>\n",
              "      <td>False</td>\n",
              "    </tr>\n",
              "    <tr>\n",
              "      <th>0</th>\n",
              "      <td>Bob</td>\n",
              "      <td>1.2</td>\n",
              "      <td>6.0</td>\n",
              "      <td>Male</td>\n",
              "      <td>False</td>\n",
              "    </tr>\n",
              "    <tr>\n",
              "      <th>2</th>\n",
              "      <td>Coop</td>\n",
              "      <td>1.1</td>\n",
              "      <td>6.0</td>\n",
              "      <td>Male</td>\n",
              "      <td>True</td>\n",
              "    </tr>\n",
              "    <tr>\n",
              "      <th>1</th>\n",
              "      <td>Mike</td>\n",
              "      <td>1.2</td>\n",
              "      <td>5.5</td>\n",
              "      <td>Male</td>\n",
              "      <td>False</td>\n",
              "    </tr>\n",
              "    <tr>\n",
              "      <th>3</th>\n",
              "      <td>Maddy</td>\n",
              "      <td>1.3</td>\n",
              "      <td>5.5</td>\n",
              "      <td>Female</td>\n",
              "      <td>False</td>\n",
              "    </tr>\n",
              "  </tbody>\n",
              "</table>\n",
              "</div>"
            ],
            "text/plain": [
              "    Name  First Appearance  Approx height  Gender  Law Enforcement\n",
              "4  Giant               2.1            7.5    Male            False\n",
              "0    Bob               1.2            6.0    Male            False\n",
              "2   Coop               1.1            6.0    Male             True\n",
              "1   Mike               1.2            5.5    Male            False\n",
              "3  Maddy               1.3            5.5  Female            False"
            ]
          },
          "execution_count": 14,
          "metadata": {},
          "output_type": "execute_result"
        }
      ],
      "source": [
        "data.sort_values(by='Approx height', ascending=False).head()"
      ]
    },
    {
      "cell_type": "markdown",
      "metadata": {
        "id": "SYT8xvlYaimE"
      },
      "source": [
        "# Supplementary: Kaggle exercises\n",
        "\n",
        "If you've gotten this far, congratulations! To further hone your skills, try working your way through the five [intro to programming notebooks on Kaggle](https://www.kaggle.com/learn/intro-to-programming). These cover a range of skills that we'll be using throughout the term. Kaggle is a very useful resource for learning data science, so making an account may not be a bad idea!"
      ]
    },
    {
      "cell_type": "markdown",
      "metadata": {
        "id": "WDPOTh-JJEHw"
      },
      "source": [
        "# Assessed Question\n",
        "\n",
        "The URL below contains a dataset of the most streamed songs on spotify in 2023:\n",
        "https://storage.googleapis.com/qm2/wk1/spotify-2023.csv\n",
        "\n",
        "1. Download the dataset and save it in the `./data/wk1/` directory. (hint: curl)\n",
        "2. Load the dataset as a pandas dataframe. (hint: pandas.read_csv)\n",
        "3. Sort the dataframe in descending order of streams. (hint: sort_values)\n",
        "\n",
        "QUESTION: what song has the highest number of streams in this dataset?"
      ]
    },
    {
      "cell_type": "code",
      "execution_count": 11,
      "metadata": {
        "id": "xu-7C20xJEHz",
        "colab": {
          "base_uri": "https://localhost:8080/",
          "height": 199
        },
        "outputId": "f5f567fb-9d70-4852-bf62-be56815d9215"
      },
      "outputs": [
        {
          "output_type": "stream",
          "name": "stdout",
          "text": [
            "  % Total    % Received % Xferd  Average Speed   Time    Time     Time  Current\n",
            "                                 Dload  Upload   Total   Spent    Left  Speed\n",
            "\r  0     0    0     0    0     0      0      0 --:--:-- --:--:-- --:--:--     0\r100  104k  100  104k    0     0   857k      0 --:--:-- --:--:-- --:--:--  865k\n"
          ]
        },
        {
          "output_type": "execute_result",
          "data": {
            "text/plain": [
              "          track_name artist(s)_name  artist_count  released_year  \\\n",
              "101  Blinding Lights     The Weeknd             1           2019   \n",
              "\n",
              "     released_month  released_day  in_spotify_playlists  in_spotify_charts  \\\n",
              "101              11            29                 43899                 69   \n",
              "\n",
              "        streams  in_apple_playlists  ...  bpm key   mode danceability_%  \\\n",
              "101  3703895074                 672  ...  171  C#  Major             50   \n",
              "\n",
              "     valence_% energy_% acousticness_%  instrumentalness_%  liveness_%  \\\n",
              "101         38       80              0                   0           9   \n",
              "\n",
              "     speechiness_%  \n",
              "101              7  \n",
              "\n",
              "[1 rows x 24 columns]"
            ],
            "text/html": [
              "\n",
              "  <div id=\"df-279667c1-9108-4244-a281-e7719a462930\" class=\"colab-df-container\">\n",
              "    <div>\n",
              "<style scoped>\n",
              "    .dataframe tbody tr th:only-of-type {\n",
              "        vertical-align: middle;\n",
              "    }\n",
              "\n",
              "    .dataframe tbody tr th {\n",
              "        vertical-align: top;\n",
              "    }\n",
              "\n",
              "    .dataframe thead th {\n",
              "        text-align: right;\n",
              "    }\n",
              "</style>\n",
              "<table border=\"1\" class=\"dataframe\">\n",
              "  <thead>\n",
              "    <tr style=\"text-align: right;\">\n",
              "      <th></th>\n",
              "      <th>track_name</th>\n",
              "      <th>artist(s)_name</th>\n",
              "      <th>artist_count</th>\n",
              "      <th>released_year</th>\n",
              "      <th>released_month</th>\n",
              "      <th>released_day</th>\n",
              "      <th>in_spotify_playlists</th>\n",
              "      <th>in_spotify_charts</th>\n",
              "      <th>streams</th>\n",
              "      <th>in_apple_playlists</th>\n",
              "      <th>...</th>\n",
              "      <th>bpm</th>\n",
              "      <th>key</th>\n",
              "      <th>mode</th>\n",
              "      <th>danceability_%</th>\n",
              "      <th>valence_%</th>\n",
              "      <th>energy_%</th>\n",
              "      <th>acousticness_%</th>\n",
              "      <th>instrumentalness_%</th>\n",
              "      <th>liveness_%</th>\n",
              "      <th>speechiness_%</th>\n",
              "    </tr>\n",
              "  </thead>\n",
              "  <tbody>\n",
              "    <tr>\n",
              "      <th>101</th>\n",
              "      <td>Blinding Lights</td>\n",
              "      <td>The Weeknd</td>\n",
              "      <td>1</td>\n",
              "      <td>2019</td>\n",
              "      <td>11</td>\n",
              "      <td>29</td>\n",
              "      <td>43899</td>\n",
              "      <td>69</td>\n",
              "      <td>3703895074</td>\n",
              "      <td>672</td>\n",
              "      <td>...</td>\n",
              "      <td>171</td>\n",
              "      <td>C#</td>\n",
              "      <td>Major</td>\n",
              "      <td>50</td>\n",
              "      <td>38</td>\n",
              "      <td>80</td>\n",
              "      <td>0</td>\n",
              "      <td>0</td>\n",
              "      <td>9</td>\n",
              "      <td>7</td>\n",
              "    </tr>\n",
              "  </tbody>\n",
              "</table>\n",
              "<p>1 rows × 24 columns</p>\n",
              "</div>\n",
              "    <div class=\"colab-df-buttons\">\n",
              "\n",
              "  <div class=\"colab-df-container\">\n",
              "    <button class=\"colab-df-convert\" onclick=\"convertToInteractive('df-279667c1-9108-4244-a281-e7719a462930')\"\n",
              "            title=\"Convert this dataframe to an interactive table.\"\n",
              "            style=\"display:none;\">\n",
              "\n",
              "  <svg xmlns=\"http://www.w3.org/2000/svg\" height=\"24px\" viewBox=\"0 -960 960 960\">\n",
              "    <path d=\"M120-120v-720h720v720H120Zm60-500h600v-160H180v160Zm220 220h160v-160H400v160Zm0 220h160v-160H400v160ZM180-400h160v-160H180v160Zm440 0h160v-160H620v160ZM180-180h160v-160H180v160Zm440 0h160v-160H620v160Z\"/>\n",
              "  </svg>\n",
              "    </button>\n",
              "\n",
              "  <style>\n",
              "    .colab-df-container {\n",
              "      display:flex;\n",
              "      gap: 12px;\n",
              "    }\n",
              "\n",
              "    .colab-df-convert {\n",
              "      background-color: #E8F0FE;\n",
              "      border: none;\n",
              "      border-radius: 50%;\n",
              "      cursor: pointer;\n",
              "      display: none;\n",
              "      fill: #1967D2;\n",
              "      height: 32px;\n",
              "      padding: 0 0 0 0;\n",
              "      width: 32px;\n",
              "    }\n",
              "\n",
              "    .colab-df-convert:hover {\n",
              "      background-color: #E2EBFA;\n",
              "      box-shadow: 0px 1px 2px rgba(60, 64, 67, 0.3), 0px 1px 3px 1px rgba(60, 64, 67, 0.15);\n",
              "      fill: #174EA6;\n",
              "    }\n",
              "\n",
              "    .colab-df-buttons div {\n",
              "      margin-bottom: 4px;\n",
              "    }\n",
              "\n",
              "    [theme=dark] .colab-df-convert {\n",
              "      background-color: #3B4455;\n",
              "      fill: #D2E3FC;\n",
              "    }\n",
              "\n",
              "    [theme=dark] .colab-df-convert:hover {\n",
              "      background-color: #434B5C;\n",
              "      box-shadow: 0px 1px 3px 1px rgba(0, 0, 0, 0.15);\n",
              "      filter: drop-shadow(0px 1px 2px rgba(0, 0, 0, 0.3));\n",
              "      fill: #FFFFFF;\n",
              "    }\n",
              "  </style>\n",
              "\n",
              "    <script>\n",
              "      const buttonEl =\n",
              "        document.querySelector('#df-279667c1-9108-4244-a281-e7719a462930 button.colab-df-convert');\n",
              "      buttonEl.style.display =\n",
              "        google.colab.kernel.accessAllowed ? 'block' : 'none';\n",
              "\n",
              "      async function convertToInteractive(key) {\n",
              "        const element = document.querySelector('#df-279667c1-9108-4244-a281-e7719a462930');\n",
              "        const dataTable =\n",
              "          await google.colab.kernel.invokeFunction('convertToInteractive',\n",
              "                                                    [key], {});\n",
              "        if (!dataTable) return;\n",
              "\n",
              "        const docLinkHtml = 'Like what you see? Visit the ' +\n",
              "          '<a target=\"_blank\" href=https://colab.research.google.com/notebooks/data_table.ipynb>data table notebook</a>'\n",
              "          + ' to learn more about interactive tables.';\n",
              "        element.innerHTML = '';\n",
              "        dataTable['output_type'] = 'display_data';\n",
              "        await google.colab.output.renderOutput(dataTable, element);\n",
              "        const docLink = document.createElement('div');\n",
              "        docLink.innerHTML = docLinkHtml;\n",
              "        element.appendChild(docLink);\n",
              "      }\n",
              "    </script>\n",
              "  </div>\n",
              "\n",
              "    </div>\n",
              "  </div>\n"
            ]
          },
          "metadata": {},
          "execution_count": 11
        }
      ],
      "source": [
        "# use this code cell to answer the question\n",
        "!curl https://storage.googleapis.com/qm2/wk1/spotify-2023.csv -o ./data/wk1/spotify-2023.csv\n",
        "spotify = pandas.read_csv('./data/wk1/spotify-2023.csv')\n",
        "spotify.sort_values(by='streams', ascending=False).head(1)\n",
        "\n"
      ]
    }
  ],
  "metadata": {
    "colab": {
      "provenance": [],
      "include_colab_link": true
    },
    "kernelspec": {
      "display_name": "Python 3.9.7 ('geo')",
      "language": "python",
      "name": "python3"
    },
    "language_info": {
      "codemirror_mode": {
        "name": "ipython",
        "version": 3
      },
      "file_extension": ".py",
      "mimetype": "text/x-python",
      "name": "python",
      "nbconvert_exporter": "python",
      "pygments_lexer": "ipython3",
      "version": "3.9.7"
    },
    "vscode": {
      "interpreter": {
        "hash": "8ee0682e3aec3eb14c273afe4405335ee3a64a018407db16d950813fa3a05036"
      }
    }
  },
  "nbformat": 4,
  "nbformat_minor": 0
}